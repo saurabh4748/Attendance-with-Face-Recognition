{
 "cells": [
  {
   "cell_type": "code",
   "execution_count": 1,
   "metadata": {},
   "outputs": [
    {
     "name": "stdout",
     "output_type": "stream",
     "text": [
      "Requirement already satisfied: cmake in c:\\users\\saurabh\\anaconda3\\lib\\site-packages (3.18.4.post1)\n",
      "Requirement already satisfied: dlib in c:\\users\\saurabh\\anaconda3\\lib\\site-packages (19.21.1)\n",
      "Requirement already satisfied: face_recognition in c:\\users\\saurabh\\anaconda3\\lib\\site-packages (1.3.0)\n",
      "Requirement already satisfied: numpy in c:\\users\\saurabh\\anaconda3\\lib\\site-packages (1.19.5)\n",
      "Requirement already satisfied: Click>=6.0 in c:\\users\\saurabh\\anaconda3\\lib\\site-packages (from face_recognition) (7.1.2)\n",
      "Requirement already satisfied: Pillow in c:\\users\\saurabh\\anaconda3\\lib\\site-packages (from face_recognition) (7.2.0)\n",
      "Requirement already satisfied: face-recognition-models>=0.3.0 in c:\\users\\saurabh\\anaconda3\\lib\\site-packages (from face_recognition) (0.3.0)\n"
     ]
    }
   ],
   "source": [
    "!pip install cmake dlib face_recognition numpy"
   ]
  },
  {
   "cell_type": "markdown",
   "metadata": {},
   "source": [
    "# Libraries"
   ]
  },
  {
   "cell_type": "code",
   "execution_count": 2,
   "metadata": {},
   "outputs": [],
   "source": [
    "import cv2\n",
    "import numpy as np\n",
    "import face_recognition\n",
    "import os\n",
    "from datetime import datetime"
   ]
  },
  {
   "cell_type": "markdown",
   "metadata": {},
   "source": [
    "# Path for test images"
   ]
  },
  {
   "cell_type": "code",
   "execution_count": 3,
   "metadata": {},
   "outputs": [
    {
     "name": "stdout",
     "output_type": "stream",
     "text": [
      "['A P J Abdul Kalam.jpg', 'Bill Gates.jpg', 'Elon Musk.jpg', 'Jack Ma.jpg', 'Kapil Dev.jfif', 'Lata Mangeshkar.jpeg', 'Saurabh.jpg']\n"
     ]
    }
   ],
   "source": [
    "path = 'AttendanceImages'\n",
    "images = []\n",
    "classNames = []\n",
    "myList = os.listdir(path)\n",
    "print(myList)"
   ]
  },
  {
   "cell_type": "markdown",
   "metadata": {},
   "source": [
    "# Extracting names from the List"
   ]
  },
  {
   "cell_type": "code",
   "execution_count": 4,
   "metadata": {},
   "outputs": [
    {
     "name": "stdout",
     "output_type": "stream",
     "text": [
      "['A P J Abdul Kalam', 'Bill Gates', 'Elon Musk', 'Jack Ma', 'Kapil Dev', 'Lata Mangeshkar', 'Saurabh']\n"
     ]
    }
   ],
   "source": [
    "for cl in myList:\n",
    "    curImg = cv2.imread(f'{path}/{cl}')\n",
    "    images.append(curImg)\n",
    "    classNames.append(os.path.splitext(cl)[0])\n",
    "print(classNames)"
   ]
  },
  {
   "cell_type": "markdown",
   "metadata": {},
   "source": [
    "# Converting the Images into Encodings"
   ]
  },
  {
   "cell_type": "code",
   "execution_count": 5,
   "metadata": {},
   "outputs": [],
   "source": [
    "def findEncodings(images):\n",
    "    encodeList = []\n",
    "    for img in images:\n",
    "        img = cv2.cvtColor(img, cv2.COLOR_BGR2RGB)\n",
    "        encode = face_recognition.face_encodings(img)[0]\n",
    "        encodeList.append(encode)\n",
    "    return encodeList"
   ]
  },
  {
   "cell_type": "markdown",
   "metadata": {},
   "source": [
    "# Marking Attendance"
   ]
  },
  {
   "cell_type": "code",
   "execution_count": 6,
   "metadata": {},
   "outputs": [
    {
     "name": "stdout",
     "output_type": "stream",
     "text": [
      "Encoding Complete\n"
     ]
    }
   ],
   "source": [
    "def markAttendance(name):\n",
    "    with open('Attendance.csv','r+') as f:\n",
    "        myDataList = f.readlines()\n",
    "        nameList = []\n",
    "        for line in myDataList:\n",
    "            entry = line.split(',')\n",
    "            nameList.append(entry[0])\n",
    "        if name not in nameList:\n",
    "            now = datetime.now()\n",
    "            dtString = now.strftime('%H:%M:%S')\n",
    "            f.writelines(f'\\n{name},{dtString}')\n",
    "        \n",
    "\n",
    "encodeListKnown = findEncodings(images)\n",
    "print('Encoding Complete')\n"
   ]
  },
  {
   "cell_type": "markdown",
   "metadata": {},
   "source": [
    "# Camera  Access and Capturing the Face"
   ]
  },
  {
   "cell_type": "code",
   "execution_count": null,
   "metadata": {},
   "outputs": [
    {
     "name": "stdout",
     "output_type": "stream",
     "text": [
      "[0.84858324 0.98991411 0.79639138 0.83087362 0.82212609 0.79995916\n",
      " 0.51684358]\n",
      "SAURABH\n",
      "[0.81832068 0.95753427 0.81626763 0.78735676 0.80818383 0.79969665\n",
      " 0.43167794]\n",
      "SAURABH\n",
      "[0.79554135 0.9365133  0.77484085 0.68661568 0.78616243 0.7220855\n",
      " 0.39626365]\n",
      "SAURABH\n",
      "[0.79452175 0.94458328 0.8048679  0.8042065  0.79812753 0.77395801\n",
      " 0.44134968]\n",
      "SAURABH\n",
      "[0.80144869 0.95890056 0.81010598 0.80359443 0.80571266 0.76702726\n",
      " 0.43255102]\n",
      "SAURABH\n",
      "[0.79159188 0.94821753 0.81302639 0.80140904 0.79861463 0.77318727\n",
      " 0.42269791]\n",
      "SAURABH\n",
      "[0.78805008 0.93340083 0.81703244 0.81536453 0.78973554 0.78424656\n",
      " 0.45394057]\n",
      "SAURABH\n",
      "[0.80151671 0.94067792 0.81290436 0.80892107 0.79361899 0.78076133\n",
      " 0.41608832]\n",
      "SAURABH\n",
      "[0.81388188 0.95634477 0.83814638 0.82506485 0.8068488  0.78254668\n",
      " 0.41854318]\n",
      "SAURABH\n",
      "[0.81640282 0.96236679 0.82973038 0.8145088  0.79396693 0.78864594\n",
      " 0.42718361]\n",
      "SAURABH\n",
      "[0.815371   0.97407436 0.8370765  0.8256355  0.783554   0.78778668\n",
      " 0.43941409]\n",
      "SAURABH\n",
      "[0.81276449 0.96836749 0.83398731 0.80708648 0.80207144 0.77829342\n",
      " 0.42740959]\n",
      "SAURABH\n",
      "[0.81199882 0.97583004 0.85205883 0.82041839 0.80848255 0.78984408\n",
      " 0.42728325]\n",
      "SAURABH\n"
     ]
    }
   ],
   "source": [
    "cap = cv2.VideoCapture(0)\n",
    " \n",
    "while True:\n",
    "    success, img = cap.read()\n",
    "    imgS = cv2.resize(img,(0,0),None,0.25,0.25)\n",
    "    imgS = cv2.cvtColor(imgS, cv2.COLOR_BGR2RGB)\n",
    " \n",
    "    facesCurFrame = face_recognition.face_locations(imgS)\n",
    "    encodesCurFrame = face_recognition.face_encodings(imgS,facesCurFrame)\n",
    " \n",
    "    for encodeFace,faceLoc in zip(encodesCurFrame,facesCurFrame):\n",
    "        matches = face_recognition.compare_faces(encodeListKnown,encodeFace)\n",
    "        faceDis = face_recognition.face_distance(encodeListKnown,encodeFace)\n",
    "        print(faceDis)\n",
    "        matchIndex = np.argmin(faceDis)\n",
    " \n",
    "    if matches[matchIndex]:\n",
    "        name = classNames[matchIndex].upper()\n",
    "        print(name)\n",
    "        y1,x2,y2,x1 = faceLoc\n",
    "        y1, x2, y2, x1 = y1*4,x2*4,y2*4,x1*4\n",
    "        cv2.rectangle(img,(x1,y1),(x2,y2),(0,255,0),2)\n",
    "        cv2.rectangle(img,(x1,y2-35),(x2,y2),(0,255,0),cv2.FILLED)\n",
    "        cv2.putText(img,name,(x1+6,y2-6),cv2.FONT_HERSHEY_COMPLEX,1,(255,255,255),2)\n",
    "        markAttendance(name)\n",
    " \n",
    "    cv2.imshow('Webcam',img)\n",
    "    cv2.waitKey(1)"
   ]
  },
  {
   "cell_type": "code",
   "execution_count": null,
   "metadata": {},
   "outputs": [],
   "source": []
  },
  {
   "cell_type": "code",
   "execution_count": null,
   "metadata": {},
   "outputs": [],
   "source": []
  }
 ],
 "metadata": {
  "kernelspec": {
   "display_name": "Python 3",
   "language": "python",
   "name": "python3"
  },
  "language_info": {
   "codemirror_mode": {
    "name": "ipython",
    "version": 3
   },
   "file_extension": ".py",
   "mimetype": "text/x-python",
   "name": "python",
   "nbconvert_exporter": "python",
   "pygments_lexer": "ipython3",
   "version": "3.8.3"
  }
 },
 "nbformat": 4,
 "nbformat_minor": 4
}
